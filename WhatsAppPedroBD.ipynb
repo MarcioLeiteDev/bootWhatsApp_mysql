{
 "cells": [
  {
   "cell_type": "code",
   "execution_count": null,
   "id": "b0c9a817",
   "metadata": {},
   "outputs": [],
   "source": [
    "from selenium import webdriver\n",
    "from selenium.webdriver.common.keys import Keys\n",
    "from selenium.webdriver.support import expected_conditions as EC\n",
    "from selenium.webdriver.common.by import By\n",
    "import datetime\n",
    "\n",
    "import mysql.connector\n",
    "from mysql.connector import Error\n",
    "\n",
    "#busca = input(\"sua busca\")\n",
    "\n",
    "for num in range(0,10):\n",
    "    print(num)\n",
    "\n",
    "    mydb = mysql.connector.connect(host='www.marcioleitedev.com.br',user='marciole_dflix',passwd='dflix7778',database='marciole_dflix')\n",
    "\n",
    "    mycursor = mydb.cursor()\n",
    "    #mycursor.execute(f\"SELECT * FROM lista WHERE enviado_pedro = '0' AND nome LIKE '{busca}%' ORDER BY RAND()\")\n",
    "    mycursor.execute(f\"SELECT * FROM lista ORDER BY RAND()\")\n",
    "\n",
    "    myresult = mycursor.fetchone()\n",
    "\n",
    "    id = myresult[0]\n",
    "    nome = myresult[1]\n",
    "    ddd = myresult[2]\n",
    "    numero = myresult[3]\n",
    "\n",
    "    print(f'ID={id} Nome {nome} ({ddd}) {numero}')\n",
    "\n",
    "\n",
    "\n",
    "\n",
    "                "
   ]
  },
  {
   "cell_type": "code",
   "execution_count": null,
   "id": "fdadea87",
   "metadata": {},
   "outputs": [],
   "source": []
  },
  {
   "cell_type": "code",
   "execution_count": null,
   "id": "4d014d8d",
   "metadata": {},
   "outputs": [],
   "source": []
  }
 ],
 "metadata": {
  "kernelspec": {
   "display_name": "Python 3 (ipykernel)",
   "language": "python",
   "name": "python3"
  },
  "language_info": {
   "codemirror_mode": {
    "name": "ipython",
    "version": 3
   },
   "file_extension": ".py",
   "mimetype": "text/x-python",
   "name": "python",
   "nbconvert_exporter": "python",
   "pygments_lexer": "ipython3",
   "version": "3.9.12"
  }
 },
 "nbformat": 4,
 "nbformat_minor": 5
}
